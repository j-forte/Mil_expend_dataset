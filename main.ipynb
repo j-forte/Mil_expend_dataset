{
 "cells": [
  {
   "cell_type": "code",
   "execution_count": 57,
   "metadata": {},
   "outputs": [],
   "source": [
    "import numpy as np\n",
    "import pandas as pd"
   ]
  },
  {
   "cell_type": "code",
   "execution_count": 58,
   "metadata": {},
   "outputs": [
    {
     "data": {
      "text/plain": [
       "264"
      ]
     },
     "execution_count": 58,
     "metadata": {},
     "output_type": "execute_result"
    }
   ],
   "source": [
    "data = pd.read_csv('./data/mil_expend.csv')\n",
    "data.shape[0]"
   ]
  },
  {
   "cell_type": "code",
   "execution_count": 59,
   "metadata": {},
   "outputs": [
    {
     "name": "stdout",
     "output_type": "stream",
     "text": [
      "10\n",
      "32\n"
     ]
    }
   ],
   "source": [
    "brics_names = ['Brazil',\n",
    "'China',\n",
    "'Egypt',\n",
    "'Ethiopia',\n",
    "'India',\n",
    "'Indonesia',\n",
    "'Iran',\n",
    "'Russian Federation',\n",
    "'South Africa',\n",
    "'United Arab Emirates']\n",
    "\n",
    "nato_names = [\n",
    "    'Albania',\n",
    "    'Belgium',\n",
    "    'Bulgaria',\n",
    "    'Canada',\n",
    "    'Croatia',\n",
    "    'Czech Republic',\n",
    "    'Denmark',\n",
    "    'Estonia',\n",
    "    'Finland',\n",
    "    'France',\n",
    "    'Germany',\n",
    "    'Greece',\n",
    "    'Hungary',\n",
    "    'Iceland',\n",
    "    'Italy',\n",
    "    'Latvia',\n",
    "    'Lithuania',\n",
    "    'Luxembourg',\n",
    "    'Montenegro',\n",
    "    'Netherlands',\n",
    "    'North Macedonia',\n",
    "    'Norway',\n",
    "    'Poland',\n",
    "    'Portugal',\n",
    "    'Romania',\n",
    "    'Slovak Republic',\n",
    "    'Slovenia',\n",
    "    'Spain',\n",
    "    'Sweden',\n",
    "    'Turkey',\n",
    "    'United Kingdom',\n",
    "    'United States'\n",
    "]\n",
    "\n",
    "BRICS = data[data['Name'].isin(brics_names)]\n",
    "NATO = data[data['Name'].isin(nato_names)]\n",
    "print(BRICS.shape[0])\n",
    "print(NATO.shape[0])"
   ]
  }
 ],
 "metadata": {
  "kernelspec": {
   "display_name": "base",
   "language": "python",
   "name": "python3"
  },
  "language_info": {
   "codemirror_mode": {
    "name": "ipython",
    "version": 3
   },
   "file_extension": ".py",
   "mimetype": "text/x-python",
   "name": "python",
   "nbconvert_exporter": "python",
   "pygments_lexer": "ipython3",
   "version": "3.12.3"
  }
 },
 "nbformat": 4,
 "nbformat_minor": 2
}
